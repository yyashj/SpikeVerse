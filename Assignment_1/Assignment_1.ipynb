{
  "cells": [
    {
      "cell_type": "markdown",
      "metadata": {
        "id": "Nmw2T-p5VsL2"
      },
      "source": [
        "#**Task 1**\n"
      ]
    },
    {
      "cell_type": "markdown",
      "metadata": {
        "id": "BL4MKFmS2f0r"
      },
      "source": [
        "Importing Libraries:"
      ]
    },
    {
      "cell_type": "code",
      "execution_count": 1,
      "metadata": {
        "id": "sbSh0Zzowq5W"
      },
      "outputs": [],
      "source": [
        "import gymnasium as gym\n",
        "import numpy as np\n",
        "from collections import defaultdict"
      ]
    },
    {
      "cell_type": "markdown",
      "metadata": {
        "id": "r-3xQvYxx0aD"
      },
      "source": [
        "Defining the Environment"
      ]
    },
    {
      "cell_type": "code",
      "execution_count": 2,
      "metadata": {
        "id": "DGoyxxveuI8J"
      },
      "outputs": [],
      "source": [
        "env=gym.make('Blackjack-v1', sab=True, render_mode=\"rgb_array\")\n",
        "done=False\n",
        "observation=env.reset()\n",
        "action=env.action_space.sample()\n",
        "observation, reward, terminated, truncated,info=env.step(action)\n",
        "n_states=env.observation_space[0].n*env.observation_space[1].n*env.observation_space[2].n\n",
        "n_actions=env.action_space.n"
      ]
    },
    {
      "cell_type": "markdown",
      "metadata": {
        "id": "gLPISRNhx5XN"
      },
      "source": [
        "Q-Table Initialization:"
      ]
    },
    {
      "cell_type": "code",
      "execution_count": 3,
      "metadata": {
        "id": "IEgGfPeEu45R"
      },
      "outputs": [],
      "source": [
        "def _init_q_table():\n",
        "  return np.zeros(n_states,n_actions)"
      ]
    },
    {
      "cell_type": "markdown",
      "metadata": {
        "id": "J9dSSwkI0oba"
      },
      "source": [
        "Q-Table Update:"
      ]
    },
    {
      "cell_type": "code",
      "execution_count": 4,
      "metadata": {
        "id": "d5d3nFmG0l3E"
      },
      "outputs": [],
      "source": [
        "def Q_update(\n",
        "    Q:np.ndarray,\n",
        "    s:tuple[int,int,bool],\n",
        "    a:int,\n",
        "    r:float,\n",
        "    s_next:tuple[int,int,bool],\n",
        "    alpha:float,\n",
        "    gamma:float,\n",
        "):\n",
        "  return Q[s,a]+alpha*(r+gamma*np.max(Q[s_next])-Q[s,a])\n"
      ]
    },
    {
      "cell_type": "markdown",
      "metadata": {
        "id": "V4gqjxbKWI_B"
      },
      "source": [
        "# **Task 2**"
      ]
    },
    {
      "cell_type": "markdown",
      "metadata": {
        "id": "F4AbpWYJfdZk"
      },
      "source": [
        "Importing libraries"
      ]
    },
    {
      "cell_type": "code",
      "execution_count": 5,
      "metadata": {
        "id": "Ox7MC2gzfiy-"
      },
      "outputs": [],
      "source": [
        "from enum import Enum\n",
        "import numpy as np\n",
        "import matplotlib.pyplot as plt\n",
        "import pygame\n",
        "import gymnasium as gym\n",
        "from gymnasium import spaces\n",
        "from tqdm import tqdm\n",
        "from collections import defaultdict"
      ]
    },
    {
      "cell_type": "markdown",
      "metadata": {
        "id": "I-k5c5jEfp-T"
      },
      "source": [
        "Defining actions"
      ]
    },
    {
      "cell_type": "code",
      "execution_count": 6,
      "metadata": {
        "id": "qjwFDbRpftSS"
      },
      "outputs": [],
      "source": [
        "class Actions(Enum):\n",
        "    RIGHT = 0\n",
        "    UP = 1\n",
        "    LEFT = 2\n",
        "    DOWN = 3"
      ]
    },
    {
      "cell_type": "markdown",
      "metadata": {
        "id": "hvqRulTPfuJh"
      },
      "source": [
        "Defining the environment"
      ]
    },
    {
      "cell_type": "code",
      "execution_count": 7,
      "metadata": {
        "id": "vofheL7yWPWo"
      },
      "outputs": [],
      "source": [
        "class GridWorldEnv(gym.Env):\n",
        "    metadata = {\"render_modes\": [\"human\", \"rgb_array\"], \"render_fps\": 4}\n",
        "    def __init__(self, render_mode=None, size=4):\n",
        "      self.size = size\n",
        "      self.window_size = 512\n",
        "      self.observation_space = spaces.Dict(\n",
        "          {\n",
        "              \"agent\": spaces.Box(0, size - 1, shape=(2,), dtype=int),\n",
        "              \"target\": spaces.Box(0, size - 1, shape=(2,), dtype=int),\n",
        "          }\n",
        "      )\n",
        "      self._agent_location = np.array([-1, -1], dtype=int)\n",
        "      self._target_location = np.array([-1, -1], dtype=int)\n",
        "      self.action_space = spaces.Discrete(4)\n",
        "      self._action_to_direction = {\n",
        "          Actions.RIGHT.value: np.array([1, 0]),\n",
        "          Actions.UP.value: np.array([0, 1]),\n",
        "          Actions.LEFT.value: np.array([-1, 0]),\n",
        "          Actions.DOWN.value: np.array([0, -1]),\n",
        "      }\n",
        "\n",
        "      assert render_mode is None or render_mode in self.metadata[\"render_modes\"]\n",
        "      self.render_mode = render_mode\n",
        "      self.window = None\n",
        "      self.clock = None\n",
        "\n",
        "    def _get_obs(self):\n",
        "      return {\"agent\": self._agent_location, \"target\": self._target_location}\n",
        "\n",
        "\n",
        "    def _get_info(self):\n",
        "      return {\n",
        "        \"distance\": np.linalg.norm(\n",
        "        self._agent_location - self._target_location, ord=1\n",
        "      )\n",
        "    }\n",
        "\n",
        "    def reset(self, seed=None, options=None):\n",
        "      super().reset(seed=seed)\n",
        "      self._agent_location = self.np_random.integers(0, self.size, size=2, dtype=int)\n",
        "      self._target_location = self._agent_location\n",
        "      while np.array_equal(self._target_location, self._agent_location):\n",
        "        self._target_location = self.np_random.integers(\n",
        "          0, self.size, size=2, dtype=int\n",
        "        )\n",
        "      observation = self._get_obs()\n",
        "      info = self._get_info()\n",
        "      if self.render_mode == \"human\":\n",
        "        self._render_frame()\n",
        "      return observation, info\n",
        "\n",
        "    def step(self, action):\n",
        "      direction = self._action_to_direction[action]\n",
        "      self._agent_location = np.clip(\n",
        "        self._agent_location + direction, 0, self.size - 1\n",
        "      )\n",
        "      terminated = np.array_equal(self._agent_location, self._target_location)\n",
        "      reward = 1 if terminated else 0\n",
        "      observation = self._get_obs()\n",
        "      info = self._get_info()\n",
        "\n",
        "      if self.render_mode == \"human\":\n",
        "        self._render_frame()\n",
        "      return observation, reward, terminated, False, info\n",
        "\n",
        "    def render(self):\n",
        "      if self.render_mode == \"rgb_array\":\n",
        "        return self._render_frame()\n",
        "\n",
        "    def _render_frame(self):\n",
        "      if self.window is None and self.render_mode == \"human\":\n",
        "        pygame.init()\n",
        "        pygame.display.init()\n",
        "        self.window = pygame.display.set_mode(\n",
        "          (self.window_size, self.window_size)\n",
        "        )\n",
        "      if self.clock is None and self.render_mode == \"human\":\n",
        "        self.clock = pygame.time.Clock()\n",
        "\n",
        "      canvas = pygame.Surface((self.window_size, self.window_size))\n",
        "      canvas.fill((255, 255, 255))\n",
        "      pix_square_size = (\n",
        "        self.window_size / self.size\n",
        "      )\n",
        "\n",
        "      pygame.draw.rect(\n",
        "        canvas,\n",
        "        (255, 0, 0),\n",
        "        pygame.Rect(\n",
        "            pix_square_size * self._target_location,\n",
        "            (pix_square_size, pix_square_size),\n",
        "        ),\n",
        "      )\n",
        "\n",
        "      pygame.draw.circle(\n",
        "        canvas,\n",
        "        (0, 0, 255),\n",
        "        (self._agent_location + 0.5) * pix_square_size,\n",
        "        pix_square_size / 3,\n",
        "      )\n",
        "\n",
        "      for x in range(self.size + 1):\n",
        "        pygame.draw.line(\n",
        "            canvas,\n",
        "            0,\n",
        "            (0, pix_square_size * x),\n",
        "            (self.window_size, pix_square_size * x),\n",
        "            width=3,\n",
        "        )\n",
        "        pygame.draw.line(\n",
        "            canvas,\n",
        "            0,\n",
        "            (pix_square_size * x, 0),\n",
        "            (pix_square_size * x, self.window_size),\n",
        "            width=3,\n",
        "        )\n",
        "\n",
        "      if self.render_mode == \"human\":\n",
        "        self.window.blit(canvas, canvas.get_rect())\n",
        "        pygame.event.pump()\n",
        "        pygame.display.update()\n",
        "        self.clock.tick(self.metadata[\"render_fps\"])\n",
        "      else:\n",
        "        return np.transpose(\n",
        "            np.array(pygame.surfarray.pixels3d(canvas)), axes=(1, 0, 2)\n",
        "        )\n",
        "\n",
        "    def close(self):\n",
        "      if self.window is not None:\n",
        "        pygame.display.quit()\n",
        "        pygame.quit()\n"
      ]
    },
    {
      "cell_type": "markdown",
      "metadata": {
        "id": "sEoTBOYg9mBV"
      },
      "source": [
        "Initializing the environmant"
      ]
    },
    {
      "cell_type": "code",
      "execution_count": 8,
      "metadata": {
        "id": "7hRn72us9oez"
      },
      "outputs": [],
      "source": [
        "env = GridWorldEnv(render_mode=None)"
      ]
    },
    {
      "cell_type": "markdown",
      "metadata": {
        "id": "91FQB3Pp_ayq"
      },
      "source": [
        "Creating the agent"
      ]
    },
    {
      "cell_type": "code",
      "execution_count": 9,
      "metadata": {
        "id": "wmGg0F90_aez"
      },
      "outputs": [],
      "source": [
        "from typing import Tuple\n",
        "Q = defaultdict(lambda: np.zeros(env.action_space.n))\n",
        "class GridWorldAgent:\n",
        "    def __init__(\n",
        "            self,\n",
        "            learning_rate:float,\n",
        "            initial_epsilon:float,\n",
        "            epsilon_decay:float,\n",
        "            final_epsilon:float,\n",
        "            discount_factor:float =0.5\n",
        "    ):\n",
        "\n",
        "      self.lr=learning_rate\n",
        "      self.discount_factor=discount_factor\n",
        "      self.epsilon=initial_epsilon\n",
        "      self.epsilon_decay=epsilon_decay\n",
        "      self.final_epsilon= final_epsilon\n",
        "\n",
        "      self.training_error=[]\n",
        "\n",
        "    def select_action(self, Q, state: dict, epsilon) -> int:\n",
        "      state_tuple = (tuple(state['agent']), tuple(state['target']))\n",
        "      if np.random.random() < epsilon:\n",
        "        return env.action_space.sample()\n",
        "      else:\n",
        "        return int(np.argmax(Q[state_tuple]))\n",
        "\n",
        "    def update(\n",
        "      self,\n",
        "      state: dict,\n",
        "      action: int,\n",
        "      reward: float,\n",
        "      terminated: bool,\n",
        "      next_state: dict\n",
        "    ):\n",
        "      state_tuple = (tuple(state['agent']), tuple(state['target']))\n",
        "      next_state_tuple = (tuple(next_state['agent']), tuple(next_state['target']))\n",
        "\n",
        "      future_Q = (not terminated) * np.max(Q[next_state_tuple])\n",
        "      temporal_difference = (\n",
        "          reward + self.discount_factor * future_Q - Q[state_tuple][action]\n",
        "      )\n",
        "\n",
        "      Q[state_tuple][action] = (\n",
        "          Q[state_tuple][action] + self.lr * temporal_difference\n",
        "      )\n",
        "      self.training_error.append(temporal_difference)\n",
        "\n",
        "\n",
        "    def decay_epsilon(self):\n",
        "      epsilon=max(self.final_epsilon,self.epsilon-self.epsilon_decay)\n"
      ]
    },
    {
      "cell_type": "markdown",
      "metadata": {
        "id": "TcDdNFpXKcjf"
      },
      "source": [
        "Training"
      ]
    },
    {
      "cell_type": "code",
      "execution_count": 10,
      "metadata": {
        "colab": {
          "base_uri": "https://localhost:8080/"
        },
        "id": "cUNyAOHjKd0a",
        "outputId": "b1b1a1ef-b52a-4e9d-cdd0-0eb845aee0a3"
      },
      "outputs": [
        {
          "name": "stderr",
          "output_type": "stream",
          "text": [
            "100%|██████████| 500/500 [00:00<00:00, 779.23it/s]\n"
          ]
        }
      ],
      "source": [
        "learning_rate=0.1\n",
        "n_episodes=500\n",
        "start_epsilon=1.0\n",
        "epsilon_decay=start_epsilon/(n_episodes/2)\n",
        "final_epsilon=0.1\n",
        "agent=GridWorldAgent(\n",
        "    learning_rate=learning_rate,\n",
        "    initial_epsilon=start_epsilon,\n",
        "    epsilon_decay=epsilon_decay,\n",
        "    final_epsilon=final_epsilon\n",
        "    )\n",
        "\n",
        "from IPython.display import clear_output\n",
        "import matplotlib.pyplot as plt\n",
        "\n",
        "episode_rewards=[]\n",
        "for episode in tqdm(range(n_episodes)):\n",
        "    state, _ = env.reset()\n",
        "    done = False\n",
        "    total_reward = 0\n",
        "\n",
        "    while not done:\n",
        "        action = agent.select_action(Q, state, agent.epsilon)\n",
        "        next_state, reward, terminated, _, info = env.step(action)\n",
        "        agent.update(state, action, reward, terminated, next_state)\n",
        "        total_reward += reward\n",
        "        done = terminated\n",
        "        state = next_state\n",
        "\n",
        "    agent.decay_epsilon()\n",
        "    episode_rewards.append(total_reward)\n",
        "\n",
        "\n",
        "env.render_mode = \"rgb_array\"  # Get frames as arrays\n",
        "state, _ = env.reset()\n",
        "done = False\n",
        "frames = []\n",
        "\n",
        "while not done:\n",
        "    action = agent.select_action(Q, state, 0)\n",
        "    next_state, _, done, _, _ = env.step(action)\n",
        "    frame = env.render()\n",
        "    frames.append(frame)\n",
        "    state = next_state\n",
        "agent.decay_epsilon()\n"
      ]
    },
    {
      "cell_type": "markdown",
      "metadata": {
        "id": "0iRmFnr-niaq"
      },
      "source": [
        "Moving Average Reward"
      ]
    },
    {
      "cell_type": "code",
      "execution_count": 11,
      "metadata": {
        "colab": {
          "base_uri": "https://localhost:8080/",
          "height": 487
        },
        "id": "lSGBPoyadFBJ",
        "outputId": "99cac5d4-9cc3-46eb-ed5f-a52a80d52610"
      },
      "outputs": [
        {
          "data": {
            "image/png": "[encoded data removed]",
            "text/plain": [
              "<Figure size 1000x500 with 1 Axes>"
            ]
          },
          "metadata": {},
          "output_type": "display_data"
        }
      ],
      "source": [
        "def moving_average(data, window_size=50):\n",
        "    return np.convolve(data, np.ones(window_size)/window_size, mode='valid')\n",
        "\n",
        "plt.figure(figsize=(10, 5))\n",
        "plt.plot(moving_average(episode_rewards), label=f'ε={final_epsilon}')\n",
        "plt.xlabel('Episode')\n",
        "plt.ylabel('Moving Avg Reward (window=50)')\n",
        "plt.title('Reward Trend Over Episodes')\n",
        "plt.legend()\n",
        "plt.grid(True)\n",
        "plt.show()"
      ]
    },
    {
      "cell_type": "markdown",
      "metadata": {
        "id": "N5R53oMenlE5"
      },
      "source": [
        "Graphs for epsilon = 0.1 and 0.2"
      ]
    },
    {
      "cell_type": "code",
      "execution_count": 12,
      "metadata": {
        "id": "uSi_4u69ntWH"
      },
      "outputs": [],
      "source": [
        "def train_and_get_rewards(final_epsilon):\n",
        "    agent = GridWorldAgent(\n",
        "        learning_rate=0.1,\n",
        "        initial_epsilon=1.0,\n",
        "        epsilon_decay=1.0 / (n_episodes / 2),\n",
        "        final_epsilon=final_epsilon\n",
        "    )\n",
        "\n",
        "    episode_rewards = []\n",
        "    for episode in range(n_episodes):\n",
        "        state, _ = env.reset()\n",
        "        done = False\n",
        "        total_reward = 0\n",
        "\n",
        "        while not done:\n",
        "            action = agent.select_action(Q, state, agent.epsilon)\n",
        "            next_state, reward, terminated, _, _ = env.step(action)\n",
        "            agent.update(state, action, reward, terminated, next_state)\n",
        "            total_reward += reward\n",
        "            state = next_state\n",
        "            done = terminated\n",
        "\n",
        "        agent.decay_epsilon()\n",
        "        episode_rewards.append(total_reward)\n",
        "\n",
        "    return episode_rewards\n"
      ]
    },
    {
      "cell_type": "code",
      "execution_count": 13,
      "metadata": {
        "colab": {
          "base_uri": "https://localhost:8080/",
          "height": 487
        },
        "id": "Jjbz2vywnzl_",
        "outputId": "af54dee5-c166-4653-933a-e8559e8e1ebd"
      },
      "outputs": [
        {
          "data": {
            "image/png": "[encoded data removed]",
            "text/plain": [
              "<Figure size 1000x500 with 1 Axes>"
            ]
          },
          "metadata": {},
          "output_type": "display_data"
        }
      ],
      "source": [
        "rewards_eps_01 = train_and_get_rewards(0.1)\n",
        "rewards_eps_02 = train_and_get_rewards(0.2)\n",
        "\n",
        "plt.figure(figsize=(10, 5))\n",
        "plt.plot(moving_average(rewards_eps_01), label='ε = 0.1')\n",
        "plt.plot(moving_average(rewards_eps_02), label='ε = 0.2')\n",
        "plt.xlabel('Episode')\n",
        "plt.ylabel('Moving Avg Reward (window=50)')\n",
        "plt.title('Effect of ε on Learning')\n",
        "plt.legend()\n",
        "plt.grid(True)\n",
        "plt.show()\n"
      ]
    },
    {
      "cell_type": "markdown",
      "metadata": {
        "id": "FgrKcuS7p5Of"
      },
      "source": [
        "**Explanation**:\n"
      ]
    },
    {
      "cell_type": "markdown",
      "metadata": {
        "id": "noyOk8GvnuMp"
      },
      "source": [
        "# **Task 3**"
      ]
    },
    {
      "cell_type": "markdown",
      "metadata": {
        "id": "hmIHEf0ZqZ-h"
      },
      "source": [
        "Importing Libraries"
      ]
    },
    {
      "cell_type": "code",
      "execution_count": 14,
      "metadata": {
        "id": "Y5CAg1XjqbpZ"
      },
      "outputs": [],
      "source": [
        "import random\n",
        "import numpy as np"
      ]
    },
    {
      "cell_type": "markdown",
      "metadata": {
        "id": "lA2ZYC-zqNhE"
      },
      "source": [
        "Replay Buffer Implementation:"
      ]
    },
    {
      "cell_type": "code",
      "execution_count": 15,
      "metadata": {
        "id": "e-0X95lHpp4H"
      },
      "outputs": [],
      "source": [
        "class ReplayBuffer:\n",
        "    def __init__(self, capacity):\n",
        "        self.capacity = capacity\n",
        "        self.buffer = []\n",
        "        self.position = 0\n",
        "\n",
        "    def push(self, state, action, reward, next_state, done):\n",
        "        if len(self.buffer) < self.capacity:\n",
        "            self.buffer.append(None)\n",
        "        self.buffer[self.position] = (state, action, reward, next_state, done)\n",
        "        self.position = (self.position + 1) % self.capacity\n",
        "\n",
        "    def sample(self, batch_size):\n",
        "        if len(self.buffer) < batch_size:\n",
        "          raise ValueError(f\"Buffer has only {len(self.buffer)} elements, but requested batch size is {batch_size}\")\n",
        "        batch = random.sample(self.buffer, batch_size)\n",
        "        states, actions, rewards, next_states, dones = map(np.array, zip(*batch))\n",
        "        return states, actions, rewards, next_states, dones\n",
        "\n",
        "    def __len__(self):\n",
        "        return len(self.buffer)\n"
      ]
    },
    {
      "cell_type": "markdown",
      "metadata": {
        "id": "Ym3gr6nsqQ9C"
      },
      "source": [
        "Demonstration"
      ]
    },
    {
      "cell_type": "code",
      "execution_count": 16,
      "metadata": {
        "colab": {
          "base_uri": "https://localhost:8080/"
        },
        "id": "EOX5nWVIqTjV",
        "outputId": "8a4be267-d85b-413d-b9ce-685ebe7ccaaf"
      },
      "outputs": [
        {
          "name": "stdout",
          "output_type": "stream",
          "text": [
            "States: (32, 4) int32\n",
            "Actions: (32,) int64\n",
            "Rewards: (32,) float64\n",
            "Next States: (32, 4) int32\n",
            "Dones: (32,) bool\n"
          ]
        }
      ],
      "source": [
        "buffer = ReplayBuffer(capacity=100)\n",
        "\n",
        "for _ in range(100):\n",
        "    state = np.random.randint(0, 10, size=(4,))\n",
        "    action = np.random.randint(0, 5)\n",
        "    reward = np.random.random()\n",
        "    next_state = np.random.randint(0, 10, size=(4,))\n",
        "    done = np.random.choice([True, False])\n",
        "    buffer.push(state, action, reward, next_state, done)\n",
        "\n",
        "states, actions, rewards, next_states, dones = buffer.sample(32)\n",
        "\n",
        "print(\"States:\", states.shape, states.dtype)\n",
        "print(\"Actions:\", actions.shape, actions.dtype)\n",
        "print(\"Rewards:\", rewards.shape, rewards.dtype)\n",
        "print(\"Next States:\", next_states.shape, next_states.dtype)\n",
        "print(\"Dones:\", dones.shape, dones.dtype)\n"
      ]
    },
    {
      "cell_type": "markdown",
      "metadata": {
        "id": "Fk-4sjyTrSNr"
      },
      "source": [
        "# **Task 4**"
      ]
    },
    {
      "cell_type": "markdown",
      "metadata": {
        "id": "UheTsen4r2dY"
      },
      "source": [
        "Importing libraries"
      ]
    },
    {
      "cell_type": "code",
      "execution_count": 18,
      "metadata": {
        "id": "McB6jrHwr5_8"
      },
      "outputs": [],
      "source": [
        "import torch\n",
        "import torch.nn as nn\n",
        "import torch.nn.functional as F"
      ]
    },
    {
      "cell_type": "markdown",
      "metadata": {
        "id": "K1den7pRrxqG"
      },
      "source": [
        "DQN Network Architecture"
      ]
    },
    {
      "cell_type": "code",
      "execution_count": 19,
      "metadata": {
        "id": "JnQOIUP8rxUW"
      },
      "outputs": [],
      "source": [
        "class DQN_Policy(nn.Module):\n",
        "    def __init__(self, obs_dim, n_actions):\n",
        "        super(DQN_Policy, self).__init__()\n",
        "        self.net = nn.Sequential(\n",
        "            nn.Linear(obs_dim, 128),\n",
        "            nn.ReLU(),\n",
        "            nn.Linear(128, 128),\n",
        "            nn.ReLU(),\n",
        "            nn.Linear(128, n_actions)\n",
        "        )\n",
        "\n",
        "    def forward(self, x):\n",
        "        return self.net(x)\n",
        "\n",
        "class DQN_Target(nn.Module):\n",
        "    def __init__(self, obs_dim, n_actions):\n",
        "        super(DQN_Target, self).__init__()\n",
        "        self.net = nn.Sequential(\n",
        "            nn.Linear(obs_dim, 128),\n",
        "            nn.ReLU(),\n",
        "            nn.Linear(128, 128),\n",
        "            nn.ReLU(),\n",
        "            nn.Linear(128, n_actions)\n",
        "        )\n",
        "\n",
        "    def forward(self, x):\n",
        "        return self.net(x)\n"
      ]
    },
    {
      "cell_type": "markdown",
      "metadata": {
        "id": "VNI1e-xNsAqZ"
      },
      "source": [
        "Target Network Update"
      ]
    },
    {
      "cell_type": "code",
      "execution_count": 20,
      "metadata": {
        "id": "iGtFgEyyrY3Z"
      },
      "outputs": [],
      "source": [
        "def update_target(policy_net, target_net):\n",
        "    target_net.load_state_dict(policy_net.state_dict())"
      ]
    },
    {
      "cell_type": "markdown",
      "metadata": {
        "id": "ki28JP-gt8Ge"
      },
      "source": [
        "# **Task 5**"
      ]
    },
    {
      "cell_type": "markdown",
      "metadata": {
        "id": "68uYbELTy3PZ"
      },
      "source": [
        "Importing Libraries"
      ]
    },
    {
      "cell_type": "code",
      "execution_count": 23,
      "metadata": {
        "colab": {
          "base_uri": "https://localhost:8080/"
        },
        "id": "RgJX1yYB0x-4",
        "outputId": "a8f99e0e-e6fc-439a-fd93-2433f9cb48df"
      },
      "outputs": [
        {
          "name": "stdout",
          "output_type": "stream",
          "text": [
            "Requirement already satisfied: numpy==1.23.5 in c:\\users\\yash\\anaconda3\\envs\\gymenv\\lib\\site-packages (1.23.5)\n"
          ]
        }
      ],
      "source": [
        "!pip install numpy==1.23.5"
      ]
    },
    {
      "cell_type": "code",
      "execution_count": 26,
      "metadata": {
        "id": "XMJtuP80t-PR"
      },
      "outputs": [],
      "source": [
        "import gymnasium as gym\n",
        "import torch\n",
        "import torch.nn as nn\n",
        "import torch.optim as optim\n",
        "import numpy as np\n",
        "import random\n",
        "from collections import deque\n",
        "import matplotlib.pyplot as plt"
      ]
    },
    {
      "cell_type": "markdown",
      "metadata": {
        "id": "ukhxkk_Py52r"
      },
      "source": [
        "Hyperparameters"
      ]
    },
    {
      "cell_type": "code",
      "execution_count": 27,
      "metadata": {
        "id": "XyuyhZONzQ0N"
      },
      "outputs": [],
      "source": [
        "N = 500\n",
        "M = (1.0 - 0.01) / N\n",
        "X = 10\n",
        "BATCH_SIZE = 64\n",
        "GAMMA = 0.99\n",
        "REPLAY_CAPACITY = 10000\n",
        "LEARNING_RATE = 0.001"
      ]
    },
    {
      "cell_type": "markdown",
      "metadata": {
        "id": "RI3FyTrrzYEN"
      },
      "source": [
        "Replay Buffer Implementation"
      ]
    },
    {
      "cell_type": "code",
      "execution_count": 28,
      "metadata": {
        "id": "v0D7jwX9zah3"
      },
      "outputs": [],
      "source": [
        "class ReplayBuffer:\n",
        "    def __init__(self, capacity):\n",
        "        self.buffer = deque(maxlen=capacity)\n",
        "\n",
        "    def push(self, state, action, reward, next_state, done):\n",
        "        self.buffer.append((state, action, reward, next_state, done))\n",
        "\n",
        "    def sample(self, batch_size):\n",
        "        batch = random.sample(self.buffer, batch_size)\n",
        "        states, actions, rewards, next_states, dones = zip(*batch)\n",
        "        return (np.array(states), np.array(actions), np.array(rewards),\n",
        "                np.array(next_states), np.array(dones))\n",
        "\n",
        "    def __len__(self):\n",
        "        return len(self.buffer)\n"
      ]
    },
    {
      "cell_type": "markdown",
      "metadata": {
        "id": "fqy1KnP_zbGB"
      },
      "source": [
        "DQN Network Architecture"
      ]
    },
    {
      "cell_type": "code",
      "execution_count": 29,
      "metadata": {
        "id": "omowVRM-zfwc"
      },
      "outputs": [],
      "source": [
        "class DQN(nn.Module):\n",
        "    def __init__(self, input_dim, output_dim):\n",
        "        super(DQN, self).__init__()\n",
        "        self.layers = nn.Sequential(\n",
        "            nn.Linear(input_dim, 128),\n",
        "            nn.ReLU(),\n",
        "            nn.Linear(128, 128),\n",
        "            nn.ReLU(),\n",
        "            nn.Linear(128, output_dim)\n",
        "        )\n",
        "\n",
        "    def forward(self, x):\n",
        "        return self.layers(x)"
      ]
    },
    {
      "cell_type": "markdown",
      "metadata": {
        "id": "j24FQUuezqLX"
      },
      "source": [
        "Target Network Update"
      ]
    },
    {
      "cell_type": "code",
      "execution_count": 30,
      "metadata": {
        "id": "cuzV9Liwzr5g"
      },
      "outputs": [],
      "source": [
        "def update_target(policy_net, target_net):\n",
        "    target_net.load_state_dict(policy_net.state_dict())"
      ]
    },
    {
      "cell_type": "markdown",
      "metadata": {
        "id": "R7rmZkuKzwP_"
      },
      "source": [
        "Initialize environment, networks, optimizer, loss, replay buffer"
      ]
    },
    {
      "cell_type": "code",
      "execution_count": 36,
      "metadata": {
        "colab": {
          "base_uri": "https://localhost:8080/"
        },
        "id": "G3PrCy_0zxim",
        "outputId": "6eb1caff-58db-4421-f04c-4d49007c8a5d"
      },
      "outputs": [
        {
          "ename": "ImportError",
          "evalue": "cannot import name 'NP_SUPPORTED_MODULES' from 'torch._dynamo.utils' (c:\\Users\\Yash\\anaconda3\\envs\\gymenv\\Lib\\site-packages\\torch\\_dynamo\\utils.py)",
          "output_type": "error",
          "traceback": [
            "\u001b[31m---------------------------------------------------------------------------\u001b[39m",
            "\u001b[31mImportError\u001b[39m                               Traceback (most recent call last)",
            "\u001b[36mCell\u001b[39m\u001b[36m \u001b[39m\u001b[32mIn[36]\u001b[39m\u001b[32m, line 9\u001b[39m\n\u001b[32m      6\u001b[39m target_net = DQN(obs_dim, n_actions)\n\u001b[32m      7\u001b[39m update_target(policy_net, target_net)\n\u001b[32m----> \u001b[39m\u001b[32m9\u001b[39m optimizer = \u001b[43moptim\u001b[49m\u001b[43m.\u001b[49m\u001b[43mAdam\u001b[49m\u001b[43m(\u001b[49m\u001b[43mpolicy_net\u001b[49m\u001b[43m.\u001b[49m\u001b[43mparameters\u001b[49m\u001b[43m(\u001b[49m\u001b[43m)\u001b[49m\u001b[43m,\u001b[49m\u001b[43m \u001b[49m\u001b[43mlr\u001b[49m\u001b[43m=\u001b[49m\u001b[43mLEARNING_RATE\u001b[49m\u001b[43m)\u001b[49m\n\u001b[32m     10\u001b[39m loss_fn = nn.MSELoss()\n\u001b[32m     11\u001b[39m replay_buffer = ReplayBuffer(REPLAY_CAPACITY)\n",
            "\u001b[36mFile \u001b[39m\u001b[32mc:\\Users\\Yash\\anaconda3\\envs\\gymenv\\Lib\\site-packages\\torch\\optim\\adam.py:100\u001b[39m, in \u001b[36mAdam.__init__\u001b[39m\u001b[34m(self, params, lr, betas, eps, weight_decay, amsgrad, foreach, maximize, capturable, differentiable, fused, decoupled_weight_decay)\u001b[39m\n\u001b[32m     85\u001b[39m         \u001b[38;5;28;01mraise\u001b[39;00m \u001b[38;5;167;01mValueError\u001b[39;00m(\u001b[33m\"\u001b[39m\u001b[33mTensor betas[1] must be 1-element\u001b[39m\u001b[33m\"\u001b[39m)\n\u001b[32m     87\u001b[39m defaults = \u001b[38;5;28mdict\u001b[39m(\n\u001b[32m     88\u001b[39m     lr=lr,\n\u001b[32m     89\u001b[39m     betas=betas,\n\u001b[32m   (...)\u001b[39m\u001b[32m     98\u001b[39m     decoupled_weight_decay=decoupled_weight_decay,\n\u001b[32m     99\u001b[39m )\n\u001b[32m--> \u001b[39m\u001b[32m100\u001b[39m \u001b[38;5;28;43msuper\u001b[39;49m\u001b[43m(\u001b[49m\u001b[43m)\u001b[49m\u001b[43m.\u001b[49m\u001b[34;43m__init__\u001b[39;49m\u001b[43m(\u001b[49m\u001b[43mparams\u001b[49m\u001b[43m,\u001b[49m\u001b[43m \u001b[49m\u001b[43mdefaults\u001b[49m\u001b[43m)\u001b[49m\n\u001b[32m    102\u001b[39m \u001b[38;5;28;01mif\u001b[39;00m fused:\n\u001b[32m    103\u001b[39m     \u001b[38;5;28;01mif\u001b[39;00m differentiable:\n",
            "\u001b[36mFile \u001b[39m\u001b[32mc:\\Users\\Yash\\anaconda3\\envs\\gymenv\\Lib\\site-packages\\torch\\optim\\optimizer.py:369\u001b[39m, in \u001b[36mOptimizer.__init__\u001b[39m\u001b[34m(self, params, defaults)\u001b[39m\n\u001b[32m    366\u001b[39m     param_groups = [{\u001b[33m\"\u001b[39m\u001b[33mparams\u001b[39m\u001b[33m\"\u001b[39m: param_groups}]\n\u001b[32m    368\u001b[39m \u001b[38;5;28;01mfor\u001b[39;00m param_group \u001b[38;5;129;01min\u001b[39;00m param_groups:\n\u001b[32m--> \u001b[39m\u001b[32m369\u001b[39m     \u001b[38;5;28;43mself\u001b[39;49m\u001b[43m.\u001b[49m\u001b[43madd_param_group\u001b[49m\u001b[43m(\u001b[49m\u001b[43mcast\u001b[49m\u001b[43m(\u001b[49m\u001b[38;5;28;43mdict\u001b[39;49m\u001b[43m,\u001b[49m\u001b[43m \u001b[49m\u001b[43mparam_group\u001b[49m\u001b[43m)\u001b[49m\u001b[43m)\u001b[49m\n\u001b[32m    371\u001b[39m \u001b[38;5;66;03m# Allows _cuda_graph_capture_health_check to rig a poor man's TORCH_WARN_ONCE in python,\u001b[39;00m\n\u001b[32m    372\u001b[39m \u001b[38;5;66;03m# which I don't think exists\u001b[39;00m\n\u001b[32m    373\u001b[39m \u001b[38;5;66;03m# https://github.com/pytorch/pytorch/issues/72948\u001b[39;00m\n\u001b[32m    374\u001b[39m \u001b[38;5;28mself\u001b[39m._warned_capturable_if_run_uncaptured = \u001b[38;5;28;01mTrue\u001b[39;00m\n",
            "\u001b[36mFile \u001b[39m\u001b[32mc:\\Users\\Yash\\anaconda3\\envs\\gymenv\\Lib\\site-packages\\torch\\_compile.py:46\u001b[39m, in \u001b[36m_disable_dynamo.<locals>.inner\u001b[39m\u001b[34m(*args, **kwargs)\u001b[39m\n\u001b[32m     44\u001b[39m disable_fn = \u001b[38;5;28mgetattr\u001b[39m(fn, \u001b[33m\"\u001b[39m\u001b[33m__dynamo_disable\u001b[39m\u001b[33m\"\u001b[39m, \u001b[38;5;28;01mNone\u001b[39;00m)\n\u001b[32m     45\u001b[39m \u001b[38;5;28;01mif\u001b[39;00m disable_fn \u001b[38;5;129;01mis\u001b[39;00m \u001b[38;5;28;01mNone\u001b[39;00m:\n\u001b[32m---> \u001b[39m\u001b[32m46\u001b[39m     \u001b[38;5;28;01mimport\u001b[39;00m\u001b[38;5;250m \u001b[39m\u001b[34;01mtorch\u001b[39;00m\u001b[34;01m.\u001b[39;00m\u001b[34;01m_dynamo\u001b[39;00m\n\u001b[32m     48\u001b[39m     disable_fn = torch._dynamo.disable(fn, recursive)\n\u001b[32m     49\u001b[39m     fn.__dynamo_disable = disable_fn  \u001b[38;5;66;03m# type: ignore[attr-defined]\u001b[39;00m\n",
            "\u001b[36mFile \u001b[39m\u001b[32mc:\\Users\\Yash\\anaconda3\\envs\\gymenv\\Lib\\site-packages\\torch\\_dynamo\\__init__.py:13\u001b[39m\n\u001b[32m      1\u001b[39m \u001b[33;03m\"\"\"\u001b[39;00m\n\u001b[32m      2\u001b[39m \u001b[33;03mTorchDynamo is a Python-level JIT compiler designed to make unmodified PyTorch programs faster.\u001b[39;00m\n\u001b[32m      3\u001b[39m \u001b[33;03mTorchDynamo hooks into the frame evaluation API in CPython (PEP 523) to dynamically modify Python\u001b[39;00m\n\u001b[32m   (...)\u001b[39m\u001b[32m      8\u001b[39m \u001b[33;03mseamlessly optimize PyTorch programs, including those using modern Python features.\u001b[39;00m\n\u001b[32m      9\u001b[39m \u001b[33;03m\"\"\"\u001b[39;00m\n\u001b[32m     11\u001b[39m \u001b[38;5;28;01mimport\u001b[39;00m\u001b[38;5;250m \u001b[39m\u001b[34;01mtorch\u001b[39;00m\n\u001b[32m---> \u001b[39m\u001b[32m13\u001b[39m \u001b[38;5;28;01mfrom\u001b[39;00m\u001b[38;5;250m \u001b[39m\u001b[34;01m.\u001b[39;00m\u001b[38;5;250m \u001b[39m\u001b[38;5;28;01mimport\u001b[39;00m config, convert_frame, eval_frame, resume_execution\n\u001b[32m     14\u001b[39m \u001b[38;5;28;01mfrom\u001b[39;00m\u001b[38;5;250m \u001b[39m\u001b[34;01m.\u001b[39;00m\u001b[34;01mbackends\u001b[39;00m\u001b[34;01m.\u001b[39;00m\u001b[34;01mregistry\u001b[39;00m\u001b[38;5;250m \u001b[39m\u001b[38;5;28;01mimport\u001b[39;00m list_backends, lookup_backend, register_backend\n\u001b[32m     15\u001b[39m \u001b[38;5;28;01mfrom\u001b[39;00m\u001b[38;5;250m \u001b[39m\u001b[34;01m.\u001b[39;00m\u001b[34;01mcallback\u001b[39;00m\u001b[38;5;250m \u001b[39m\u001b[38;5;28;01mimport\u001b[39;00m callback_handler, on_compile_end, on_compile_start\n",
            "\u001b[36mFile \u001b[39m\u001b[32mc:\\Users\\Yash\\anaconda3\\envs\\gymenv\\Lib\\site-packages\\torch\\_dynamo\\convert_frame.py:52\u001b[39m\n\u001b[32m     50\u001b[39m \u001b[38;5;28;01mfrom\u001b[39;00m\u001b[38;5;250m \u001b[39m\u001b[34;01mtorch\u001b[39;00m\u001b[34;01m.\u001b[39;00m\u001b[34;01m_C\u001b[39;00m\u001b[34;01m.\u001b[39;00m\u001b[34;01m_dynamo\u001b[39;00m\u001b[34;01m.\u001b[39;00m\u001b[34;01mguards\u001b[39;00m\u001b[38;5;250m \u001b[39m\u001b[38;5;28;01mimport\u001b[39;00m GlobalStateGuard\n\u001b[32m     51\u001b[39m \u001b[38;5;28;01mfrom\u001b[39;00m\u001b[38;5;250m \u001b[39m\u001b[34;01mtorch\u001b[39;00m\u001b[34;01m.\u001b[39;00m\u001b[34;01m_dynamo\u001b[39;00m\u001b[34;01m.\u001b[39;00m\u001b[34;01mdistributed\u001b[39;00m\u001b[38;5;250m \u001b[39m\u001b[38;5;28;01mimport\u001b[39;00m get_compile_pg\n\u001b[32m---> \u001b[39m\u001b[32m52\u001b[39m \u001b[38;5;28;01mfrom\u001b[39;00m\u001b[38;5;250m \u001b[39m\u001b[34;01mtorch\u001b[39;00m\u001b[34;01m.\u001b[39;00m\u001b[34;01m_dynamo\u001b[39;00m\u001b[34;01m.\u001b[39;00m\u001b[34;01msymbolic_convert\u001b[39;00m\u001b[38;5;250m \u001b[39m\u001b[38;5;28;01mimport\u001b[39;00m TensorifyState\n\u001b[32m     53\u001b[39m \u001b[38;5;28;01mfrom\u001b[39;00m\u001b[38;5;250m \u001b[39m\u001b[34;01mtorch\u001b[39;00m\u001b[34;01m.\u001b[39;00m\u001b[34;01m_guards\u001b[39;00m\u001b[38;5;250m \u001b[39m\u001b[38;5;28;01mimport\u001b[39;00m compile_context, CompileContext, CompileId, tracing\n\u001b[32m     54\u001b[39m \u001b[38;5;28;01mfrom\u001b[39;00m\u001b[38;5;250m \u001b[39m\u001b[34;01mtorch\u001b[39;00m\u001b[34;01m.\u001b[39;00m\u001b[34;01m_logging\u001b[39;00m\u001b[38;5;250m \u001b[39m\u001b[38;5;28;01mimport\u001b[39;00m structured\n",
            "\u001b[36mFile \u001b[39m\u001b[32mc:\\Users\\Yash\\anaconda3\\envs\\gymenv\\Lib\\site-packages\\torch\\_dynamo\\symbolic_convert.py:57\u001b[39m\n\u001b[32m     54\u001b[39m \u001b[38;5;28;01mfrom\u001b[39;00m\u001b[38;5;250m \u001b[39m\u001b[34;01mtorch\u001b[39;00m\u001b[34;01m.\u001b[39;00m\u001b[34;01mfx\u001b[39;00m\u001b[34;01m.\u001b[39;00m\u001b[34;01mexperimental\u001b[39;00m\u001b[34;01m.\u001b[39;00m\u001b[34;01msymbolic_shapes\u001b[39;00m\u001b[38;5;250m \u001b[39m\u001b[38;5;28;01mimport\u001b[39;00m guard_bool\n\u001b[32m     55\u001b[39m \u001b[38;5;28;01mfrom\u001b[39;00m\u001b[38;5;250m \u001b[39m\u001b[34;01mtorch\u001b[39;00m\u001b[34;01m.\u001b[39;00m\u001b[34;01mutils\u001b[39;00m\u001b[34;01m.\u001b[39;00m\u001b[34;01m_functools\u001b[39;00m\u001b[38;5;250m \u001b[39m\u001b[38;5;28;01mimport\u001b[39;00m cache_method\n\u001b[32m---> \u001b[39m\u001b[32m57\u001b[39m \u001b[38;5;28;01mfrom\u001b[39;00m\u001b[38;5;250m \u001b[39m\u001b[34;01m.\u001b[39;00m\u001b[38;5;250m \u001b[39m\u001b[38;5;28;01mimport\u001b[39;00m (\n\u001b[32m     58\u001b[39m     config,\n\u001b[32m     59\u001b[39m     exc,\n\u001b[32m     60\u001b[39m     graph_break_hints,\n\u001b[32m     61\u001b[39m     logging \u001b[38;5;28;01mas\u001b[39;00m torchdynamo_logging,\n\u001b[32m     62\u001b[39m     trace_rules,\n\u001b[32m     63\u001b[39m     variables,\n\u001b[32m     64\u001b[39m )\n\u001b[32m     65\u001b[39m \u001b[38;5;28;01mfrom\u001b[39;00m\u001b[38;5;250m \u001b[39m\u001b[34;01m.\u001b[39;00m\u001b[34;01mbytecode_analysis\u001b[39;00m\u001b[38;5;250m \u001b[39m\u001b[38;5;28;01mimport\u001b[39;00m (\n\u001b[32m     66\u001b[39m     get_indexof,\n\u001b[32m     67\u001b[39m     JUMP_OPNAMES,\n\u001b[32m     68\u001b[39m     livevars_analysis,\n\u001b[32m     69\u001b[39m     propagate_line_nums,\n\u001b[32m     70\u001b[39m )\n\u001b[32m     71\u001b[39m \u001b[38;5;28;01mfrom\u001b[39;00m\u001b[38;5;250m \u001b[39m\u001b[34;01m.\u001b[39;00m\u001b[34;01mbytecode_transformation\u001b[39;00m\u001b[38;5;250m \u001b[39m\u001b[38;5;28;01mimport\u001b[39;00m (\n\u001b[32m     72\u001b[39m     cleaned_instructions,\n\u001b[32m     73\u001b[39m     create_call_function,\n\u001b[32m   (...)\u001b[39m\u001b[32m     80\u001b[39m     unique_id,\n\u001b[32m     81\u001b[39m )\n",
            "\u001b[36mFile \u001b[39m\u001b[32mc:\\Users\\Yash\\anaconda3\\envs\\gymenv\\Lib\\site-packages\\torch\\_dynamo\\trace_rules.py:31\u001b[39m\n\u001b[32m     28\u001b[39m \u001b[38;5;28;01mfrom\u001b[39;00m\u001b[38;5;250m \u001b[39m\u001b[34;01mtorch\u001b[39;00m\u001b[34;01m.\u001b[39;00m\u001b[34;01mutils\u001b[39;00m\u001b[38;5;250m \u001b[39m\u001b[38;5;28;01mimport\u001b[39;00m _config_module\n\u001b[32m     30\u001b[39m \u001b[38;5;28;01mfrom\u001b[39;00m\u001b[38;5;250m \u001b[39m\u001b[34;01m.\u001b[39;00m\u001b[34;01mresume_execution\u001b[39;00m\u001b[38;5;250m \u001b[39m\u001b[38;5;28;01mimport\u001b[39;00m TORCH_DYNAMO_RESUME_IN_PREFIX\n\u001b[32m---> \u001b[39m\u001b[32m31\u001b[39m \u001b[38;5;28;01mfrom\u001b[39;00m\u001b[38;5;250m \u001b[39m\u001b[34;01m.\u001b[39;00m\u001b[34;01mutils\u001b[39;00m\u001b[38;5;250m \u001b[39m\u001b[38;5;28;01mimport\u001b[39;00m getfile, hashable, NP_SUPPORTED_MODULES, unwrap_if_wrapper\n\u001b[32m     32\u001b[39m \u001b[38;5;28;01mfrom\u001b[39;00m\u001b[38;5;250m \u001b[39m\u001b[34;01m.\u001b[39;00m\u001b[34;01mvariables\u001b[39;00m\u001b[38;5;250m \u001b[39m\u001b[38;5;28;01mimport\u001b[39;00m (\n\u001b[32m     33\u001b[39m     BuiltinVariable,\n\u001b[32m     34\u001b[39m     FunctionalCallVariable,\n\u001b[32m   (...)\u001b[39m\u001b[32m     43\u001b[39m     UserMethodVariable,\n\u001b[32m     44\u001b[39m )\n\u001b[32m     47\u001b[39m np: Optional[types.ModuleType] = \u001b[38;5;28;01mNone\u001b[39;00m\n",
            "\u001b[31mImportError\u001b[39m: cannot import name 'NP_SUPPORTED_MODULES' from 'torch._dynamo.utils' (c:\\Users\\Yash\\anaconda3\\envs\\gymenv\\Lib\\site-packages\\torch\\_dynamo\\utils.py)"
          ]
        }
      ],
      "source": [
        "env = gym.make('CartPole-v1')\n",
        "obs_dim = env.observation_space.shape[0]\n",
        "n_actions = env.action_space.n\n",
        "\n",
        "policy_net = DQN(obs_dim, n_actions)\n",
        "target_net = DQN(obs_dim, n_actions)\n",
        "update_target(policy_net, target_net)\n",
        "\n",
        "optimizer = optim.Adam(policy_net.parameters(), lr=LEARNING_RATE)\n",
        "loss_fn = nn.MSELoss()\n",
        "replay_buffer = ReplayBuffer(REPLAY_CAPACITY)"
      ]
    },
    {
      "cell_type": "markdown",
      "metadata": {
        "id": "gX3sqJf7z1Wk"
      },
      "source": [
        "Epsilon-Greedy"
      ]
    },
    {
      "cell_type": "code",
      "execution_count": 32,
      "metadata": {
        "id": "Gb2OtJRtz3yR"
      },
      "outputs": [],
      "source": [
        "def select_action(state, epsilon):\n",
        "    if random.random() < epsilon:\n",
        "        return env.action_space.sample()\n",
        "    else:\n",
        "        state_tensor = torch.FloatTensor(state).unsqueeze(0)\n",
        "        with torch.no_grad():\n",
        "            q_values = policy_net(state_tensor)\n",
        "        return q_values.argmax().item()"
      ]
    },
    {
      "cell_type": "markdown",
      "metadata": {
        "id": "t3WDZUJPz8qk"
      },
      "source": [
        "Training Loop"
      ]
    },
    {
      "cell_type": "code",
      "execution_count": 33,
      "metadata": {
        "colab": {
          "base_uri": "https://localhost:8080/"
        },
        "id": "qw3-LcjF0DRT",
        "outputId": "b5ada77d-771e-4a4d-a72b-4f08c0a9bf58"
      },
      "outputs": [
        {
          "ename": "ValueError",
          "evalue": "too many values to unpack (expected 4)",
          "output_type": "error",
          "traceback": [
            "\u001b[31m---------------------------------------------------------------------------\u001b[39m",
            "\u001b[31mValueError\u001b[39m                                Traceback (most recent call last)",
            "\u001b[36mCell\u001b[39m\u001b[36m \u001b[39m\u001b[32mIn[33]\u001b[39m\u001b[32m, line 12\u001b[39m\n\u001b[32m     10\u001b[39m \u001b[38;5;28;01mwhile\u001b[39;00m \u001b[38;5;129;01mnot\u001b[39;00m done:\n\u001b[32m     11\u001b[39m     action = select_action(state, epsilon)\n\u001b[32m---> \u001b[39m\u001b[32m12\u001b[39m     next_state, reward, done, _ = env.step(action)\n\u001b[32m     13\u001b[39m     total_reward += reward\n\u001b[32m     15\u001b[39m     replay_buffer.push(state, action, reward, next_state, done)\n",
            "\u001b[31mValueError\u001b[39m: too many values to unpack (expected 4)"
          ]
        }
      ],
      "source": [
        "episode_rewards = []\n",
        "\n",
        "for episode in range(1, N+1):\n",
        "    state = env.reset()\n",
        "    done = False\n",
        "    total_reward = 0\n",
        "\n",
        "    epsilon = max(0.01, 1.0 - M * episode)\n",
        "\n",
        "    while not done:\n",
        "        action = select_action(state, epsilon)\n",
        "        next_state, reward, done, _ = env.step(action)\n",
        "        total_reward += reward\n",
        "\n",
        "        replay_buffer.push(state, action, reward, next_state, done)\n",
        "        state = next_state\n",
        "\n",
        "        if len(replay_buffer) >= BATCH_SIZE:\n",
        "            states, actions, rewards, next_states, dones = replay_buffer.sample(BATCH_SIZE)\n",
        "            states = torch.FloatTensor(states)\n",
        "            actions = torch.LongTensor(actions)\n",
        "            rewards = torch.FloatTensor(rewards)\n",
        "            next_states = torch.FloatTensor(next_states)\n",
        "            dones = torch.FloatTensor(dones)\n",
        "            q_values = policy_net(states)\n",
        "            state_action_values = q_values.gather(1, actions.unsqueeze(1)).squeeze(1)\n",
        "            with torch.no_grad():\n",
        "                next_q_values = target_net(next_states)\n",
        "                next_state_values = next_q_values.max(1)[0]\n",
        "                next_state_values[dones == 1] = 0.0\n",
        "            expected_q_values = rewards + GAMMA * next_state_values\n",
        "            loss = loss_fn(state_action_values, expected_q_values)\n",
        "            optimizer.zero_grad()\n",
        "            loss.backward()\n",
        "            optimizer.step()\n",
        "\n",
        "    episode_rewards.append(total_reward)\n",
        "    if episode % X == 0:\n",
        "        update_target(policy_net, target_net)\n",
        "    if episode % (N // 10) == 0:\n",
        "        moving_avg = np.mean(episode_rewards[-(N // 10):])\n",
        "        print(f\"Episode {episode}, Moving Average Reward: {moving_avg:.2f}, Epsilon: {epsilon:.3f}\")"
      ]
    },
    {
      "cell_type": "markdown",
      "metadata": {
        "id": "AWwo03NG0TsE"
      },
      "source": [
        "Moving average reward and final success rate"
      ]
    },
    {
      "cell_type": "code",
      "execution_count": 34,
      "metadata": {
        "colab": {
          "base_uri": "https://localhost:8080/",
          "height": 489
        },
        "id": "L_iUxsuC0UFq",
        "outputId": "781d9d26-a946-48e9-c58c-3dcc8b343b9c"
      },
      "outputs": [
        {
          "name": "stderr",
          "output_type": "stream",
          "text": [
            "c:\\Users\\Yash\\anaconda3\\envs\\gymenv\\Lib\\site-packages\\numpy\\_core\\fromnumeric.py:3904: RuntimeWarning: Mean of empty slice.\n",
            "c:\\Users\\Yash\\anaconda3\\envs\\gymenv\\Lib\\site-packages\\numpy\\_core\\_methods.py:147: RuntimeWarning: invalid value encountered in scalar divide\n"
          ]
        },
        {
          "data": {
            "image/png": "[encoded data removed]",
            "text/plain": [
              "<Figure size 640x480 with 1 Axes>"
            ]
          },
          "metadata": {},
          "output_type": "display_data"
        },
        {
          "name": "stdout",
          "output_type": "stream",
          "text": [
            "Final Success Rate: 0.00%\n"
          ]
        }
      ],
      "source": [
        "window = N // 10\n",
        "moving_avgs = [np.mean(episode_rewards[i:i+window]) for i in range(0, N-window+1, window)]\n",
        "plt.plot(range(0, N-window+1, window), moving_avgs)\n",
        "plt.xlabel(\"Episode\")\n",
        "plt.ylabel(f\"Moving Average Reward (window={window})\")\n",
        "plt.title(\"DQN Training Performance on CartPole-v1\")\n",
        "plt.show()\n",
        "\n",
        "success_episodes = sum(r >= 195 for r in episode_rewards)\n",
        "success_rate = (success_episodes / N) * 100\n",
        "print(f\"Final Success Rate: {success_rate:.2f}%\")"
      ]
    }
  ],
  "metadata": {
    "accelerator": "GPU",
    "colab": {
      "gpuType": "T4",
      "provenance": []
    },
    "kernelspec": {
      "display_name": "gymenv",
      "language": "python",
      "name": "python3"
    },
    "language_info": {
      "codemirror_mode": {
        "name": "ipython",
        "version": 3
      },
      "file_extension": ".py",
      "mimetype": "text/x-python",
      "name": "python",
      "nbconvert_exporter": "python",
      "pygments_lexer": "ipython3",
      "version": "3.11.11"
    }
  },
  "nbformat": 4,
  "nbformat_minor": 0
}
